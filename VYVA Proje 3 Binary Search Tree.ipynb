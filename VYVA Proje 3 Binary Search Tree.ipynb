{
 "cells": [
  {
   "cell_type": "code",
   "execution_count": null,
   "id": "997d735e",
   "metadata": {},
   "outputs": [],
   "source": [
    "[7, 5, 1, 8, 3, 6, 0, 9, 4, 2] dizisinin Binary-Search-Tree aşamalarını yazınız.\n",
    "\n",
    "Örnek: root x'dir. root'un sağından y bulunur. Solunda z bulunur vb."
   ]
  },
  {
   "cell_type": "code",
   "execution_count": null,
   "id": "00fed004",
   "metadata": {},
   "outputs": [],
   "source": [
    "1- Root değerine 6 diyelim.\n",
    "\n",
    "2- 7 sayısı root değerinden büyük olduğundan root değerinin sağına yazılır.\n",
    "\n",
    "3- 5 sayısı root değerinden küçük olduğundan root değerinin soluna yazılır.\n",
    "\n",
    "4- 1 sayısı 5 sayısından küçük olduğundan 5 sayısının soluna yazılır.\n",
    "\n",
    "5- 8 sayısı 7 sayısından büyük olduğundan 7 sayısının sağına yazılır.\n",
    "\n",
    "6- 3 sayısı 1 sayısından büyük olduğundan 1 sayısının sağına yazılır.\n",
    "\n",
    "7- 0 sayısı 1 sayısından küçük olduğundan 1 sayısının sol tarafına yazılır.\n",
    "\n",
    "8- 9 sayısı 8 sayısından büyük olduğundan 8 sayısının sağına yazılır.\n",
    "\n",
    "9- 4 sayısı 3 sayısından büyük olduğundan 3 sayısının sağına yazılır.\n",
    "\n",
    "10- 2 sayısı 3 sayısından küçük olduğundan 3 sayısının soluna yazılır."
   ]
  }
 ],
 "metadata": {
  "kernelspec": {
   "display_name": "Python 3 (ipykernel)",
   "language": "python",
   "name": "python3"
  },
  "language_info": {
   "codemirror_mode": {
    "name": "ipython",
    "version": 3
   },
   "file_extension": ".py",
   "mimetype": "text/x-python",
   "name": "python",
   "nbconvert_exporter": "python",
   "pygments_lexer": "ipython3",
   "version": "3.9.12"
  }
 },
 "nbformat": 4,
 "nbformat_minor": 5
}
